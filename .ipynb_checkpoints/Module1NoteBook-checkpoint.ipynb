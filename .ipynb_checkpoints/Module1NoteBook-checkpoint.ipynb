{
 "cells": [
  {
   "cell_type": "code",
   "execution_count": 1,
   "id": "96cb29c4-303b-48ef-ad7a-03ab9024ef4e",
   "metadata": {},
   "outputs": [],
   "source": [
    "import pandas as pd"
   ]
  },
  {
   "cell_type": "code",
   "execution_count": 2,
   "id": "98940a0d-574f-45f1-afe6-f103e9a2aa19",
   "metadata": {},
   "outputs": [],
   "source": [
    "df = pd.read_csv('DataForModule1/survey_results_public.csv')"
   ]
  },
  {
   "cell_type": "code",
   "execution_count": null,
   "id": "d0f5eb53-fbc8-4833-8a44-37b2208d540d",
   "metadata": {},
   "outputs": [],
   "source": [
    "df"
   ]
  },
  {
   "cell_type": "code",
   "execution_count": 11,
   "id": "7aa528ef-da7d-4f72-af03-dc230131600b",
   "metadata": {},
   "outputs": [
    {
     "data": {
      "text/plain": [
       "(65437, 114)"
      ]
     },
     "execution_count": 11,
     "metadata": {},
     "output_type": "execute_result"
    }
   ],
   "source": [
    "df.shape"
   ]
  },
  {
   "cell_type": "code",
   "execution_count": 12,
   "id": "a4b398a4-cc60-41bc-aac8-cc313e0ecf33",
   "metadata": {},
   "outputs": [
    {
     "data": {
      "text/plain": [
       "ResponseId                          int64\n",
       "MainBranch                         object\n",
       "Age                                object\n",
       "Employment                         object\n",
       "RemoteWork                         object\n",
       "Check                              object\n",
       "CodingActivities                   object\n",
       "EdLevel                            object\n",
       "LearnCode                          object\n",
       "LearnCodeOnline                    object\n",
       "TechDoc                            object\n",
       "YearsCode                          object\n",
       "YearsCodePro                       object\n",
       "DevType                            object\n",
       "OrgSize                            object\n",
       "PurchaseInfluence                  object\n",
       "BuyNewTool                         object\n",
       "BuildvsBuy                         object\n",
       "TechEndorse                        object\n",
       "Country                            object\n",
       "Currency                           object\n",
       "CompTotal                         float64\n",
       "LanguageHaveWorkedWith             object\n",
       "LanguageWantToWorkWith             object\n",
       "LanguageAdmired                    object\n",
       "DatabaseHaveWorkedWith             object\n",
       "DatabaseWantToWorkWith             object\n",
       "DatabaseAdmired                    object\n",
       "PlatformHaveWorkedWith             object\n",
       "PlatformWantToWorkWith             object\n",
       "PlatformAdmired                    object\n",
       "WebframeHaveWorkedWith             object\n",
       "WebframeWantToWorkWith             object\n",
       "WebframeAdmired                    object\n",
       "EmbeddedHaveWorkedWith             object\n",
       "EmbeddedWantToWorkWith             object\n",
       "EmbeddedAdmired                    object\n",
       "MiscTechHaveWorkedWith             object\n",
       "MiscTechWantToWorkWith             object\n",
       "MiscTechAdmired                    object\n",
       "ToolsTechHaveWorkedWith            object\n",
       "ToolsTechWantToWorkWith            object\n",
       "ToolsTechAdmired                   object\n",
       "NEWCollabToolsHaveWorkedWith       object\n",
       "NEWCollabToolsWantToWorkWith       object\n",
       "NEWCollabToolsAdmired              object\n",
       "OpSysPersonal use                  object\n",
       "OpSysProfessional use              object\n",
       "OfficeStackAsyncHaveWorkedWith     object\n",
       "OfficeStackAsyncWantToWorkWith     object\n",
       "OfficeStackAsyncAdmired            object\n",
       "OfficeStackSyncHaveWorkedWith      object\n",
       "OfficeStackSyncWantToWorkWith      object\n",
       "OfficeStackSyncAdmired             object\n",
       "AISearchDevHaveWorkedWith          object\n",
       "AISearchDevWantToWorkWith          object\n",
       "AISearchDevAdmired                 object\n",
       "NEWSOSites                         object\n",
       "SOVisitFreq                        object\n",
       "SOAccount                          object\n",
       "SOPartFreq                         object\n",
       "SOHow                              object\n",
       "SOComm                             object\n",
       "AISelect                           object\n",
       "AISent                             object\n",
       "AIBen                              object\n",
       "AIAcc                              object\n",
       "AIComplex                          object\n",
       "AIToolCurrently Using              object\n",
       "AIToolInterested in Using          object\n",
       "AIToolNot interested in Using      object\n",
       "AINextMuch more integrated         object\n",
       "AINextNo change                    object\n",
       "AINextMore integrated              object\n",
       "AINextLess integrated              object\n",
       "AINextMuch less integrated         object\n",
       "AIThreat                           object\n",
       "AIEthics                           object\n",
       "AIChallenges                       object\n",
       "TBranch                            object\n",
       "ICorPM                             object\n",
       "WorkExp                           float64\n",
       "Knowledge_1                        object\n",
       "Knowledge_2                        object\n",
       "Knowledge_3                        object\n",
       "Knowledge_4                        object\n",
       "Knowledge_5                        object\n",
       "Knowledge_6                        object\n",
       "Knowledge_7                        object\n",
       "Knowledge_8                        object\n",
       "Knowledge_9                        object\n",
       "Frequency_1                        object\n",
       "Frequency_2                        object\n",
       "Frequency_3                        object\n",
       "TimeSearching                      object\n",
       "TimeAnswering                      object\n",
       "Frustration                        object\n",
       "ProfessionalTech                   object\n",
       "ProfessionalCloud                  object\n",
       "ProfessionalQuestion               object\n",
       "Industry                           object\n",
       "JobSatPoints_1                    float64\n",
       "JobSatPoints_4                    float64\n",
       "JobSatPoints_5                    float64\n",
       "JobSatPoints_6                    float64\n",
       "JobSatPoints_7                    float64\n",
       "JobSatPoints_8                    float64\n",
       "JobSatPoints_9                    float64\n",
       "JobSatPoints_10                   float64\n",
       "JobSatPoints_11                   float64\n",
       "SurveyLength                       object\n",
       "SurveyEase                         object\n",
       "ConvertedCompYearly               float64\n",
       "JobSat                            float64\n",
       "dtype: object"
      ]
     },
     "execution_count": 12,
     "metadata": {},
     "output_type": "execute_result"
    }
   ],
   "source": [
    "df.dtypes"
   ]
  },
  {
   "cell_type": "code",
   "execution_count": 13,
   "id": "18033338-48e9-47ed-bb50-957c29c24ba7",
   "metadata": {},
   "outputs": [
    {
     "name": "stdout",
     "output_type": "stream",
     "text": [
      "<class 'pandas.core.frame.DataFrame'>\n",
      "RangeIndex: 65437 entries, 0 to 65436\n",
      "Columns: 114 entries, ResponseId to JobSat\n",
      "dtypes: float64(13), int64(1), object(100)\n",
      "memory usage: 56.9+ MB\n"
     ]
    }
   ],
   "source": [
    "df.info()"
   ]
  }
 ],
 "metadata": {
  "kernelspec": {
   "display_name": "Python 3 (ipykernel)",
   "language": "python",
   "name": "python3"
  },
  "language_info": {
   "codemirror_mode": {
    "name": "ipython",
    "version": 3
   },
   "file_extension": ".py",
   "mimetype": "text/x-python",
   "name": "python",
   "nbconvert_exporter": "python",
   "pygments_lexer": "ipython3",
   "version": "3.12.2"
  }
 },
 "nbformat": 4,
 "nbformat_minor": 5
}
